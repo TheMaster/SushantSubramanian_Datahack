{
 "cells": [
  {
   "cell_type": "code",
   "execution_count": 2,
   "metadata": {},
   "outputs": [],
   "source": [
    "import numpy as np\n",
    "import pandas as pd\n",
    "import matplotlib.pyplot as plt\n",
    "import seaborn as sns"
   ]
  },
  {
   "cell_type": "code",
   "execution_count": 93,
   "metadata": {},
   "outputs": [],
   "source": [
    "xtrain = pd.read_csv(\"training_set_features.csv\")\n",
    "ytrain = pd.read_csv(\"training_set_labels.csv\")\n",
    "testSet = pd.read_csv(\"test_set_features.csv\")"
   ]
  },
  {
   "cell_type": "code",
   "execution_count": 96,
   "metadata": {},
   "outputs": [
    {
     "name": "stdout",
     "output_type": "stream",
     "text": [
      "(26707, 36) (26707, 3) (26708, 36)\n"
     ]
    }
   ],
   "source": [
    "print(xtrain.shape, ytrain.shape, testSet.shape)"
   ]
  },
  {
   "cell_type": "markdown",
   "metadata": {},
   "source": [
    "# Filter useful data"
   ]
  },
  {
   "cell_type": "code",
   "execution_count": 43,
   "metadata": {},
   "outputs": [],
   "source": [
    "# cols to remove: health_insurance, employment industry and occupation\n",
    "\n",
    "# cols to separate: doctor_recc xyz and seasonal, opinion effective/risk/sick xyz and seasonal\n",
    "\n",
    "def separate(df):\n",
    "    colsReqdxyz = ['respondent_id', 'xyz_concern', 'xyz_knowledge',\n",
    "        'behavioral_antiviral_meds', 'behavioral_avoidance',\n",
    "        'behavioral_face_mask', 'behavioral_wash_hands',\n",
    "        'behavioral_large_gatherings', 'behavioral_outside_home',\n",
    "        'behavioral_touch_face', 'doctor_recc_xyz',\n",
    "        'chronic_med_condition', 'child_under_6_months', 'health_worker',\n",
    "        'opinion_xyz_vacc_effective', 'opinion_xyz_risk',\n",
    "        'opinion_xyz_sick_from_vacc', 'age_group',\n",
    "        'education', 'race', 'sex', 'income_poverty', 'marital_status',\n",
    "        'rent_or_own', 'employment_status', 'hhs_geo_region', 'census_msa',\n",
    "        'household_adults', 'household_children']\n",
    "    colsReqdseas = ['respondent_id', 'xyz_concern', 'xyz_knowledge',\n",
    "        'behavioral_antiviral_meds', 'behavioral_avoidance',\n",
    "        'behavioral_face_mask', 'behavioral_wash_hands',\n",
    "        'behavioral_large_gatherings', 'behavioral_outside_home',\n",
    "        'behavioral_touch_face', 'doctor_recc_seasonal',\n",
    "        'chronic_med_condition', 'child_under_6_months', 'health_worker',\n",
    "        'opinion_seas_vacc_effective','opinion_seas_risk', 'opinion_seas_sick_from_vacc',\n",
    "        'age_group', 'education', 'race', 'sex', 'income_poverty', 'marital_status',\n",
    "        'rent_or_own', 'employment_status', 'hhs_geo_region', 'census_msa',\n",
    "        'household_adults', 'household_children']\n",
    "    \n",
    "    return df[colsReqdseas], df[colsReqdxyz]\n",
    "\n",
    "xtrainseas, xtrainxyz = separate(xtrain)\n",
    "\n",
    "ytrainseas, ytrainxyz = ytrain[\"seasonal_vaccine\"], ytrain[\"xyz_vaccine\"]"
   ]
  },
  {
   "cell_type": "markdown",
   "metadata": {},
   "source": [
    "# Handle missing values"
   ]
  },
  {
   "cell_type": "code",
   "execution_count": 44,
   "metadata": {},
   "outputs": [],
   "source": [
    "from sklearn.impute import SimpleImputer\n",
    "def fillMissing(df):\n",
    "    imp = SimpleImputer(strategy = \"most_frequent\")\n",
    "    cols = df.columns\n",
    "    fill = imp.fit_transform(df)\n",
    "    return pd.DataFrame(fill, columns = cols, index = df.index)\n",
    "\n",
    "xtrainxyz = fillMissing(xtrainxyz)\n",
    "xtrainseas = fillMissing(xtrainseas)"
   ]
  },
  {
   "cell_type": "markdown",
   "metadata": {},
   "source": [
    "# Encoding"
   ]
  },
  {
   "cell_type": "code",
   "execution_count": 45,
   "metadata": {},
   "outputs": [],
   "source": [
    "# do one hot encoding for all\n",
    "from sklearn.preprocessing import OneHotEncoder\n",
    "\n",
    "def encode(df):\n",
    "    toEncode = ['age_group','education','race','sex','income_poverty','marital_status','rent_or_own','employment_status','hhs_geo_region','census_msa']\n",
    "\n",
    "    # one hot encoder\n",
    "    encoder = OneHotEncoder()\n",
    "    for i in toEncode:\n",
    "        result = encoder.fit_transform(df[[i]])\n",
    "        df = df.join(pd.DataFrame(result.toarray(), columns = encoder.categories_))\n",
    "    \n",
    "    # drop the pre-encoded cols\n",
    "    df.drop(columns = toEncode, inplace = True)\n",
    "\n",
    "    # convert the tuple type column names to string\n",
    "    df.columns = [x[0] if type(x) == tuple else x for x in df.columns]\n",
    "\n",
    "    # if dtype is still object, make it int\n",
    "    for col in df.select_dtypes(include = ['object']).columns:\n",
    "        df[col] = df[col].astype(int)\n",
    "    \n",
    "    return df\n",
    "\n",
    "xtrainxyz = encode(xtrainxyz)\n",
    "xtrainseas = encode(xtrainseas)"
   ]
  },
  {
   "cell_type": "markdown",
   "metadata": {},
   "source": [
    "# Fitting models"
   ]
  },
  {
   "cell_type": "code",
   "execution_count": 90,
   "metadata": {},
   "outputs": [],
   "source": [
    "from sklearn.model_selection import train_test_split\n",
    "\n",
    "x = xtrainxyz\n",
    "y = ytrainxyz\n",
    "trainX1, testX1, trainY1, testY1 = train_test_split(x, y, test_size = 0.2)\n",
    "x = xtrainseas\n",
    "y = ytrainseas\n",
    "trainX2, testX2, trainY2, testY2 = train_test_split(x, y, test_size = 0.2)"
   ]
  },
  {
   "cell_type": "code",
   "execution_count": 91,
   "metadata": {},
   "outputs": [
    {
     "data": {
      "text/plain": [
       "0.7162111568700861"
      ]
     },
     "execution_count": 91,
     "metadata": {},
     "output_type": "execute_result"
    }
   ],
   "source": [
    "from sklearn.naive_bayes import MultinomialNB\n",
    "\n",
    "modelxyz = MultinomialNB()\n",
    "modelxyz.fit(trainX1, trainY1)\n",
    "modelxyz.score(testX1, testY1)"
   ]
  },
  {
   "cell_type": "code",
   "execution_count": 92,
   "metadata": {},
   "outputs": [
    {
     "data": {
      "text/plain": [
       "0.6666042680643953"
      ]
     },
     "execution_count": 92,
     "metadata": {},
     "output_type": "execute_result"
    }
   ],
   "source": [
    "modelseas = MultinomialNB()\n",
    "modelseas.fit(trainX2, trainY2)\n",
    "modelseas.score(testX2, testY2)"
   ]
  },
  {
   "cell_type": "markdown",
   "metadata": {},
   "source": [
    "# Getting results"
   ]
  },
  {
   "cell_type": "code",
   "execution_count": 102,
   "metadata": {},
   "outputs": [],
   "source": [
    "# filter useful cols\n",
    "testSeasonal, testXYZ = separate(testSet)\n",
    "\n",
    "# handle missing values\n",
    "testSeasonal = fillMissing(testSeasonal)\n",
    "testXYZ = fillMissing(testXYZ)\n",
    "\n",
    "# encode text cols\n",
    "testSeasonal = encode(testSeasonal)\n",
    "testXYZ = encode(testXYZ)"
   ]
  },
  {
   "cell_type": "code",
   "execution_count": 110,
   "metadata": {},
   "outputs": [
    {
     "data": {
      "text/html": [
       "<div>\n",
       "<style scoped>\n",
       "    .dataframe tbody tr th:only-of-type {\n",
       "        vertical-align: middle;\n",
       "    }\n",
       "\n",
       "    .dataframe tbody tr th {\n",
       "        vertical-align: top;\n",
       "    }\n",
       "\n",
       "    .dataframe thead th {\n",
       "        text-align: right;\n",
       "    }\n",
       "</style>\n",
       "<table border=\"1\" class=\"dataframe\">\n",
       "  <thead>\n",
       "    <tr style=\"text-align: right;\">\n",
       "      <th></th>\n",
       "      <th>h1n1_vaccine</th>\n",
       "      <th>seasonal_vaccine</th>\n",
       "    </tr>\n",
       "    <tr>\n",
       "      <th>respondent_id</th>\n",
       "      <th></th>\n",
       "      <th></th>\n",
       "    </tr>\n",
       "  </thead>\n",
       "  <tbody>\n",
       "    <tr>\n",
       "      <th>26707</th>\n",
       "      <td>0</td>\n",
       "      <td>0</td>\n",
       "    </tr>\n",
       "    <tr>\n",
       "      <th>26708</th>\n",
       "      <td>0</td>\n",
       "      <td>0</td>\n",
       "    </tr>\n",
       "    <tr>\n",
       "      <th>26709</th>\n",
       "      <td>0</td>\n",
       "      <td>0</td>\n",
       "    </tr>\n",
       "    <tr>\n",
       "      <th>26710</th>\n",
       "      <td>0</td>\n",
       "      <td>0</td>\n",
       "    </tr>\n",
       "    <tr>\n",
       "      <th>26711</th>\n",
       "      <td>0</td>\n",
       "      <td>0</td>\n",
       "    </tr>\n",
       "    <tr>\n",
       "      <th>...</th>\n",
       "      <td>...</td>\n",
       "      <td>...</td>\n",
       "    </tr>\n",
       "    <tr>\n",
       "      <th>53410</th>\n",
       "      <td>0</td>\n",
       "      <td>0</td>\n",
       "    </tr>\n",
       "    <tr>\n",
       "      <th>53411</th>\n",
       "      <td>0</td>\n",
       "      <td>0</td>\n",
       "    </tr>\n",
       "    <tr>\n",
       "      <th>53412</th>\n",
       "      <td>0</td>\n",
       "      <td>0</td>\n",
       "    </tr>\n",
       "    <tr>\n",
       "      <th>53413</th>\n",
       "      <td>0</td>\n",
       "      <td>0</td>\n",
       "    </tr>\n",
       "    <tr>\n",
       "      <th>53414</th>\n",
       "      <td>0</td>\n",
       "      <td>0</td>\n",
       "    </tr>\n",
       "  </tbody>\n",
       "</table>\n",
       "<p>26708 rows × 2 columns</p>\n",
       "</div>"
      ],
      "text/plain": [
       "               h1n1_vaccine  seasonal_vaccine\n",
       "respondent_id                                \n",
       "26707                     0                 0\n",
       "26708                     0                 0\n",
       "26709                     0                 0\n",
       "26710                     0                 0\n",
       "26711                     0                 0\n",
       "...                     ...               ...\n",
       "53410                     0                 0\n",
       "53411                     0                 0\n",
       "53412                     0                 0\n",
       "53413                     0                 0\n",
       "53414                     0                 0\n",
       "\n",
       "[26708 rows x 2 columns]"
      ]
     },
     "execution_count": 110,
     "metadata": {},
     "output_type": "execute_result"
    }
   ],
   "source": [
    "h1n1 = modelxyz.predict(testXYZ)\n",
    "seasonal = modelseas.predict(testSeasonal)\n",
    "\n",
    "result = pd.DataFrame( {\n",
    "    \"h1n1_vaccine\" : h1n1,\n",
    "    \"seasonal_vaccine\" : seasonal\n",
    "} ,index = testSeasonal[\"respondent_id\"])\n",
    "\n",
    "result"
   ]
  },
  {
   "cell_type": "code",
   "execution_count": 112,
   "metadata": {},
   "outputs": [],
   "source": [
    "result.to_csv(\"result.csv\")"
   ]
  },
  {
   "cell_type": "code",
   "execution_count": null,
   "metadata": {},
   "outputs": [],
   "source": []
  }
 ],
 "metadata": {
  "kernelspec": {
   "display_name": "Python 3",
   "language": "python",
   "name": "python3"
  },
  "language_info": {
   "codemirror_mode": {
    "name": "ipython",
    "version": 3
   },
   "file_extension": ".py",
   "mimetype": "text/x-python",
   "name": "python",
   "nbconvert_exporter": "python",
   "pygments_lexer": "ipython3",
   "version": "3.11.6"
  },
  "orig_nbformat": 4
 },
 "nbformat": 4,
 "nbformat_minor": 2
}
